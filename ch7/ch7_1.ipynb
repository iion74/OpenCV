{
  "nbformat": 4,
  "nbformat_minor": 0,
  "metadata": {
    "colab": {
      "provenance": []
    },
    "kernelspec": {
      "name": "python3",
      "display_name": "Python 3"
    },
    "language_info": {
      "name": "python"
    }
  },
  "cells": [
    {
      "cell_type": "code",
      "execution_count": null,
      "metadata": {
        "id": "w1O8LiUEDlE_"
      },
      "outputs": [],
      "source": [
        "from google.colab import drive\n",
        "import cv2\n",
        "from google.colab.patches import cv2_imshow\n",
        "import numpy as np\n",
        "import matplotlib.pyplot as plt"
      ]
    },
    {
      "cell_type": "code",
      "source": [
        "drive.mount('/content/gdrive')"
      ],
      "metadata": {
        "colab": {
          "base_uri": "https://localhost:8080/"
        },
        "id": "yr1dVUHaD0NB",
        "outputId": "b31eb0e1-a9f5-4a6d-fa12-45cc201a2f7a"
      },
      "execution_count": null,
      "outputs": [
        {
          "output_type": "stream",
          "name": "stdout",
          "text": [
            "Mounted at /content/gdrive\n"
          ]
        }
      ]
    },
    {
      "cell_type": "code",
      "source": [
        "img = cv2.imread('/content/gdrive/MyDrive/Images/shrinking.bmp')\n",
        "\n",
        "gray_img = cv2.cvtColor(img, cv2.COLOR_BGR2GRAY)\n",
        "gImg = cv2.cvtColor(gray_img, cv2.COLOR_GRAY2BGR)\n",
        "print(gImg.shape)\n",
        "cv2_imshow(gray_img)"
      ],
      "metadata": {
        "id": "OLEySPBED-cs",
        "colab": {
          "base_uri": "https://localhost:8080/",
          "height": 290
        },
        "outputId": "f04058e5-77f2-4c79-c8b2-f417c829e766"
      },
      "execution_count": null,
      "outputs": [
        {
          "output_type": "stream",
          "name": "stdout",
          "text": [
            "(256, 256, 3)\n"
          ]
        },
        {
          "output_type": "display_data",
          "data": {
            "text/plain": [
              "<PIL.Image.Image image mode=L size=256x256>"
            ],
            "image/png": "[encoded data removed]",
            "image/jpeg": "[encoded data removed]"
          },
          "metadata": {}
        }
      ]
    },
    {
      "cell_type": "code",
      "source": [
        "#outImg = cv2.resize(gImg, None, fx = 0.5, fy=0.5, interpolation = cv2.INTER_NEAREST)\n",
        "outImg = cv2.resize(gImg, None, fx = 0.3, fy=0.3, interpolation = cv2.INTER_CUBIC)\n",
        "#outImg = cv2.resize(gImg, None, fx = 0.5, fy=0.3, interpolation = cv2.INTER_LINEAR)\n",
        "cv2_imshow(outImg)"
      ],
      "metadata": {
        "colab": {
          "base_uri": "https://localhost:8080/",
          "height": 94
        },
        "id": "95E_IwdqAHOM",
        "outputId": "6e347d6c-2902-4d05-bc1b-d0f71acfe5dc"
      },
      "execution_count": null,
      "outputs": [
        {
          "output_type": "display_data",
          "data": {
            "text/plain": [
              "<PIL.Image.Image image mode=RGB size=77x77>"
            ],
            "image/png": "[encoded data removed]",
            "image/jpeg": "[encoded data removed]"
          },
          "metadata": {}
        }
      ]
    },
    {
      "cell_type": "code",
      "source": [
        "blurImg = cv2.GaussianBlur(gImg, (3,3), 1)\n",
        "outImg = cv2.resize(gImg, None, fx = 0.3, fy=0.3, interpolation = cv2.INTER_CUBIC)\n",
        "cv2_imshow(outImg)"
      ],
      "metadata": {
        "colab": {
          "base_uri": "https://localhost:8080/",
          "height": 94
        },
        "id": "WD44y5mmAm2p",
        "outputId": "789fdb5e-8437-4dff-d5d5-26e06c00ad5a"
      },
      "execution_count": null,
      "outputs": [
        {
          "output_type": "display_data",
          "data": {
            "text/plain": [
              "<PIL.Image.Image image mode=RGB size=77x77>"
            ],
            "image/png": "[encoded data removed]",
            "image/jpeg": "[encoded data removed]"
          },
          "metadata": {}
        }
      ]
    },
    {
      "cell_type": "code",
      "source": [],
      "metadata": {
        "id": "72ILF5RJCA-u"
      },
      "execution_count": null,
      "outputs": []
    }
  ]
}